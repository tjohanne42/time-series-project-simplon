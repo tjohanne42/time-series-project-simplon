{
 "cells": [
  {
   "cell_type": "markdown",
   "id": "02a9d906-7619-4e6c-a5ff-dbbff58fbf90",
   "metadata": {},
   "source": [
    "- LSTM activation -> Sigmoid, tanh\n",
    "- activation = \"tanh\", recurrent\n",
    "- learning rate = 0.001, adam optimizer\n",
    "- train, val, test set\n",
    "- LSTM, dense, dropout layers\n",
    "- Relu, leaky Relu, P Relu activation functions\n",
    "- N input timestamps, M output timestamps"
   ]
  }
 ],
 "metadata": {
  "kernelspec": {
   "display_name": "Python 3",
   "language": "python",
   "name": "python3"
  },
  "language_info": {
   "codemirror_mode": {
    "name": "ipython",
    "version": 3
   },
   "file_extension": ".py",
   "mimetype": "text/x-python",
   "name": "python",
   "nbconvert_exporter": "python",
   "pygments_lexer": "ipython3",
   "version": "3.9.5"
  }
 },
 "nbformat": 4,
 "nbformat_minor": 5
}
