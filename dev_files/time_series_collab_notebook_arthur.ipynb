{
  "nbformat": 4,
  "nbformat_minor": 0,
  "metadata": {
    "colab": {
      "name": "time_series_collab_notebook_arthur.ipynb",
      "provenance": [],
      "collapsed_sections": [],
      "toc_visible": true,
      "authorship_tag": "ABX9TyNnof7cvRlLDTU9VIefNJWX",
      "include_colab_link": true
    },
    "kernelspec": {
      "name": "python3",
      "display_name": "Python 3"
    },
    "language_info": {
      "name": "python"
    },
    "widgets": {
      "application/vnd.jupyter.widget-state+json": {
        "f3b9d15582fd430585f3af71b4ba2b9e": {
          "model_module": "@jupyter-widgets/controls",
          "model_name": "HBoxModel",
          "model_module_version": "1.5.0",
          "state": {
            "_view_name": "HBoxView",
            "_dom_classes": [],
            "_model_name": "HBoxModel",
            "_view_module": "@jupyter-widgets/controls",
            "_model_module_version": "1.5.0",
            "_view_count": null,
            "_view_module_version": "1.5.0",
            "box_style": "",
            "layout": "IPY_MODEL_01bb69487170467f833763210ef193c0",
            "_model_module": "@jupyter-widgets/controls",
            "children": [
              "IPY_MODEL_974f96d1c16f46c4bdea08eb1dcc7ec2",
              "IPY_MODEL_ea72984defc64fb9aa5b021821df87f2",
              "IPY_MODEL_1a7c0b3e86e5427199c20ca86e032ce5"
            ]
          }
        },
        "01bb69487170467f833763210ef193c0": {
          "model_module": "@jupyter-widgets/base",
          "model_name": "LayoutModel",
          "model_module_version": "1.2.0",
          "state": {
            "_view_name": "LayoutView",
            "grid_template_rows": null,
            "right": null,
            "justify_content": null,
            "_view_module": "@jupyter-widgets/base",
            "overflow": null,
            "_model_module_version": "1.2.0",
            "_view_count": null,
            "flex_flow": null,
            "width": null,
            "min_width": null,
            "border": null,
            "align_items": null,
            "bottom": null,
            "_model_module": "@jupyter-widgets/base",
            "top": null,
            "grid_column": null,
            "overflow_y": null,
            "overflow_x": null,
            "grid_auto_flow": null,
            "grid_area": null,
            "grid_template_columns": null,
            "flex": null,
            "_model_name": "LayoutModel",
            "justify_items": null,
            "grid_row": null,
            "max_height": null,
            "align_content": null,
            "visibility": null,
            "align_self": null,
            "height": null,
            "min_height": null,
            "padding": null,
            "grid_auto_rows": null,
            "grid_gap": null,
            "max_width": null,
            "order": null,
            "_view_module_version": "1.2.0",
            "grid_template_areas": null,
            "object_position": null,
            "object_fit": null,
            "grid_auto_columns": null,
            "margin": null,
            "display": null,
            "left": null
          }
        },
        "974f96d1c16f46c4bdea08eb1dcc7ec2": {
          "model_module": "@jupyter-widgets/controls",
          "model_name": "HTMLModel",
          "model_module_version": "1.5.0",
          "state": {
            "_view_name": "HTMLView",
            "style": "IPY_MODEL_15ab49b685504d87b51cecb1702424cc",
            "_dom_classes": [],
            "description": "",
            "_model_name": "HTMLModel",
            "placeholder": "​",
            "_view_module": "@jupyter-widgets/controls",
            "_model_module_version": "1.5.0",
            "value": "100%",
            "_view_count": null,
            "_view_module_version": "1.5.0",
            "description_tooltip": null,
            "_model_module": "@jupyter-widgets/controls",
            "layout": "IPY_MODEL_d6f120beb5d247e28ed64dc265ee556f"
          }
        },
        "ea72984defc64fb9aa5b021821df87f2": {
          "model_module": "@jupyter-widgets/controls",
          "model_name": "FloatProgressModel",
          "model_module_version": "1.5.0",
          "state": {
            "_view_name": "ProgressView",
            "style": "IPY_MODEL_5a57a69bdda744c0b4de680fe3f2c6e4",
            "_dom_classes": [],
            "description": "",
            "_model_name": "FloatProgressModel",
            "bar_style": "success",
            "max": 796411,
            "_view_module": "@jupyter-widgets/controls",
            "_model_module_version": "1.5.0",
            "value": 796411,
            "_view_count": null,
            "_view_module_version": "1.5.0",
            "orientation": "horizontal",
            "min": 0,
            "description_tooltip": null,
            "_model_module": "@jupyter-widgets/controls",
            "layout": "IPY_MODEL_aa886ad557d849e192c631c62a1ce928"
          }
        },
        "1a7c0b3e86e5427199c20ca86e032ce5": {
          "model_module": "@jupyter-widgets/controls",
          "model_name": "HTMLModel",
          "model_module_version": "1.5.0",
          "state": {
            "_view_name": "HTMLView",
            "style": "IPY_MODEL_5597a19599574d58b5f8b7a93806bd73",
            "_dom_classes": [],
            "description": "",
            "_model_name": "HTMLModel",
            "placeholder": "​",
            "_view_module": "@jupyter-widgets/controls",
            "_model_module_version": "1.5.0",
            "value": " 796411/796411 [00:09&lt;00:00, 170807.45it/s]",
            "_view_count": null,
            "_view_module_version": "1.5.0",
            "description_tooltip": null,
            "_model_module": "@jupyter-widgets/controls",
            "layout": "IPY_MODEL_510e872902384fa08f3136600f8d819c"
          }
        },
        "15ab49b685504d87b51cecb1702424cc": {
          "model_module": "@jupyter-widgets/controls",
          "model_name": "DescriptionStyleModel",
          "model_module_version": "1.5.0",
          "state": {
            "_view_name": "StyleView",
            "_model_name": "DescriptionStyleModel",
            "description_width": "",
            "_view_module": "@jupyter-widgets/base",
            "_model_module_version": "1.5.0",
            "_view_count": null,
            "_view_module_version": "1.2.0",
            "_model_module": "@jupyter-widgets/controls"
          }
        },
        "d6f120beb5d247e28ed64dc265ee556f": {
          "model_module": "@jupyter-widgets/base",
          "model_name": "LayoutModel",
          "model_module_version": "1.2.0",
          "state": {
            "_view_name": "LayoutView",
            "grid_template_rows": null,
            "right": null,
            "justify_content": null,
            "_view_module": "@jupyter-widgets/base",
            "overflow": null,
            "_model_module_version": "1.2.0",
            "_view_count": null,
            "flex_flow": null,
            "width": null,
            "min_width": null,
            "border": null,
            "align_items": null,
            "bottom": null,
            "_model_module": "@jupyter-widgets/base",
            "top": null,
            "grid_column": null,
            "overflow_y": null,
            "overflow_x": null,
            "grid_auto_flow": null,
            "grid_area": null,
            "grid_template_columns": null,
            "flex": null,
            "_model_name": "LayoutModel",
            "justify_items": null,
            "grid_row": null,
            "max_height": null,
            "align_content": null,
            "visibility": null,
            "align_self": null,
            "height": null,
            "min_height": null,
            "padding": null,
            "grid_auto_rows": null,
            "grid_gap": null,
            "max_width": null,
            "order": null,
            "_view_module_version": "1.2.0",
            "grid_template_areas": null,
            "object_position": null,
            "object_fit": null,
            "grid_auto_columns": null,
            "margin": null,
            "display": null,
            "left": null
          }
        },
        "5a57a69bdda744c0b4de680fe3f2c6e4": {
          "model_module": "@jupyter-widgets/controls",
          "model_name": "ProgressStyleModel",
          "model_module_version": "1.5.0",
          "state": {
            "_view_name": "StyleView",
            "_model_name": "ProgressStyleModel",
            "description_width": "",
            "_view_module": "@jupyter-widgets/base",
            "_model_module_version": "1.5.0",
            "_view_count": null,
            "_view_module_version": "1.2.0",
            "bar_color": null,
            "_model_module": "@jupyter-widgets/controls"
          }
        },
        "aa886ad557d849e192c631c62a1ce928": {
          "model_module": "@jupyter-widgets/base",
          "model_name": "LayoutModel",
          "model_module_version": "1.2.0",
          "state": {
            "_view_name": "LayoutView",
            "grid_template_rows": null,
            "right": null,
            "justify_content": null,
            "_view_module": "@jupyter-widgets/base",
            "overflow": null,
            "_model_module_version": "1.2.0",
            "_view_count": null,
            "flex_flow": null,
            "width": null,
            "min_width": null,
            "border": null,
            "align_items": null,
            "bottom": null,
            "_model_module": "@jupyter-widgets/base",
            "top": null,
            "grid_column": null,
            "overflow_y": null,
            "overflow_x": null,
            "grid_auto_flow": null,
            "grid_area": null,
            "grid_template_columns": null,
            "flex": null,
            "_model_name": "LayoutModel",
            "justify_items": null,
            "grid_row": null,
            "max_height": null,
            "align_content": null,
            "visibility": null,
            "align_self": null,
            "height": null,
            "min_height": null,
            "padding": null,
            "grid_auto_rows": null,
            "grid_gap": null,
            "max_width": null,
            "order": null,
            "_view_module_version": "1.2.0",
            "grid_template_areas": null,
            "object_position": null,
            "object_fit": null,
            "grid_auto_columns": null,
            "margin": null,
            "display": null,
            "left": null
          }
        },
        "5597a19599574d58b5f8b7a93806bd73": {
          "model_module": "@jupyter-widgets/controls",
          "model_name": "DescriptionStyleModel",
          "model_module_version": "1.5.0",
          "state": {
            "_view_name": "StyleView",
            "_model_name": "DescriptionStyleModel",
            "description_width": "",
            "_view_module": "@jupyter-widgets/base",
            "_model_module_version": "1.5.0",
            "_view_count": null,
            "_view_module_version": "1.2.0",
            "_model_module": "@jupyter-widgets/controls"
          }
        },
        "510e872902384fa08f3136600f8d819c": {
          "model_module": "@jupyter-widgets/base",
          "model_name": "LayoutModel",
          "model_module_version": "1.2.0",
          "state": {
            "_view_name": "LayoutView",
            "grid_template_rows": null,
            "right": null,
            "justify_content": null,
            "_view_module": "@jupyter-widgets/base",
            "overflow": null,
            "_model_module_version": "1.2.0",
            "_view_count": null,
            "flex_flow": null,
            "width": null,
            "min_width": null,
            "border": null,
            "align_items": null,
            "bottom": null,
            "_model_module": "@jupyter-widgets/base",
            "top": null,
            "grid_column": null,
            "overflow_y": null,
            "overflow_x": null,
            "grid_auto_flow": null,
            "grid_area": null,
            "grid_template_columns": null,
            "flex": null,
            "_model_name": "LayoutModel",
            "justify_items": null,
            "grid_row": null,
            "max_height": null,
            "align_content": null,
            "visibility": null,
            "align_self": null,
            "height": null,
            "min_height": null,
            "padding": null,
            "grid_auto_rows": null,
            "grid_gap": null,
            "max_width": null,
            "order": null,
            "_view_module_version": "1.2.0",
            "grid_template_areas": null,
            "object_position": null,
            "object_fit": null,
            "grid_auto_columns": null,
            "margin": null,
            "display": null,
            "left": null
          }
        },
        "d902b3ede8e2470a8831488178912c00": {
          "model_module": "@jupyter-widgets/controls",
          "model_name": "HBoxModel",
          "model_module_version": "1.5.0",
          "state": {
            "_view_name": "HBoxView",
            "_dom_classes": [],
            "_model_name": "HBoxModel",
            "_view_module": "@jupyter-widgets/controls",
            "_model_module_version": "1.5.0",
            "_view_count": null,
            "_view_module_version": "1.5.0",
            "box_style": "",
            "layout": "IPY_MODEL_2ff5808f97e04e7e84b4ca839aa0361e",
            "_model_module": "@jupyter-widgets/controls",
            "children": [
              "IPY_MODEL_e19cbb1e910a481db4d6717b2ba975b0",
              "IPY_MODEL_35b00083262941dd99398eb970063af1",
              "IPY_MODEL_8b0b73e37cfb4c5cbfb446098e571c22"
            ]
          }
        },
        "2ff5808f97e04e7e84b4ca839aa0361e": {
          "model_module": "@jupyter-widgets/base",
          "model_name": "LayoutModel",
          "model_module_version": "1.2.0",
          "state": {
            "_view_name": "LayoutView",
            "grid_template_rows": null,
            "right": null,
            "justify_content": null,
            "_view_module": "@jupyter-widgets/base",
            "overflow": null,
            "_model_module_version": "1.2.0",
            "_view_count": null,
            "flex_flow": null,
            "width": null,
            "min_width": null,
            "border": null,
            "align_items": null,
            "bottom": null,
            "_model_module": "@jupyter-widgets/base",
            "top": null,
            "grid_column": null,
            "overflow_y": null,
            "overflow_x": null,
            "grid_auto_flow": null,
            "grid_area": null,
            "grid_template_columns": null,
            "flex": null,
            "_model_name": "LayoutModel",
            "justify_items": null,
            "grid_row": null,
            "max_height": null,
            "align_content": null,
            "visibility": null,
            "align_self": null,
            "height": null,
            "min_height": null,
            "padding": null,
            "grid_auto_rows": null,
            "grid_gap": null,
            "max_width": null,
            "order": null,
            "_view_module_version": "1.2.0",
            "grid_template_areas": null,
            "object_position": null,
            "object_fit": null,
            "grid_auto_columns": null,
            "margin": null,
            "display": null,
            "left": null
          }
        },
        "e19cbb1e910a481db4d6717b2ba975b0": {
          "model_module": "@jupyter-widgets/controls",
          "model_name": "HTMLModel",
          "model_module_version": "1.5.0",
          "state": {
            "_view_name": "HTMLView",
            "style": "IPY_MODEL_298dda4b88624d6484ade4d7429b4bb0",
            "_dom_classes": [],
            "description": "",
            "_model_name": "HTMLModel",
            "placeholder": "​",
            "_view_module": "@jupyter-widgets/controls",
            "_model_module_version": "1.5.0",
            "value": "100%",
            "_view_count": null,
            "_view_module_version": "1.5.0",
            "description_tooltip": null,
            "_model_module": "@jupyter-widgets/controls",
            "layout": "IPY_MODEL_ef0b692317a64aea9d11aeb427113d6a"
          }
        },
        "35b00083262941dd99398eb970063af1": {
          "model_module": "@jupyter-widgets/controls",
          "model_name": "FloatProgressModel",
          "model_module_version": "1.5.0",
          "state": {
            "_view_name": "ProgressView",
            "style": "IPY_MODEL_2dbabf9cf93f4db4941d3f66894dbdb4",
            "_dom_classes": [],
            "description": "",
            "_model_name": "FloatProgressModel",
            "bar_style": "success",
            "max": 2772,
            "_view_module": "@jupyter-widgets/controls",
            "_model_module_version": "1.5.0",
            "value": 2772,
            "_view_count": null,
            "_view_module_version": "1.5.0",
            "orientation": "horizontal",
            "min": 0,
            "description_tooltip": null,
            "_model_module": "@jupyter-widgets/controls",
            "layout": "IPY_MODEL_ed9038dba5344a348b3a6f4d7d734e38"
          }
        },
        "8b0b73e37cfb4c5cbfb446098e571c22": {
          "model_module": "@jupyter-widgets/controls",
          "model_name": "HTMLModel",
          "model_module_version": "1.5.0",
          "state": {
            "_view_name": "HTMLView",
            "style": "IPY_MODEL_b1aef3b698b840f9af9c9f658eed0d4e",
            "_dom_classes": [],
            "description": "",
            "_model_name": "HTMLModel",
            "placeholder": "​",
            "_view_module": "@jupyter-widgets/controls",
            "_model_module_version": "1.5.0",
            "value": " 2772/2772 [00:00&lt;00:00, 10008.43it/s]",
            "_view_count": null,
            "_view_module_version": "1.5.0",
            "description_tooltip": null,
            "_model_module": "@jupyter-widgets/controls",
            "layout": "IPY_MODEL_ca3b106a40fa4afc80f46ae1ac6fbd78"
          }
        },
        "298dda4b88624d6484ade4d7429b4bb0": {
          "model_module": "@jupyter-widgets/controls",
          "model_name": "DescriptionStyleModel",
          "model_module_version": "1.5.0",
          "state": {
            "_view_name": "StyleView",
            "_model_name": "DescriptionStyleModel",
            "description_width": "",
            "_view_module": "@jupyter-widgets/base",
            "_model_module_version": "1.5.0",
            "_view_count": null,
            "_view_module_version": "1.2.0",
            "_model_module": "@jupyter-widgets/controls"
          }
        },
        "ef0b692317a64aea9d11aeb427113d6a": {
          "model_module": "@jupyter-widgets/base",
          "model_name": "LayoutModel",
          "model_module_version": "1.2.0",
          "state": {
            "_view_name": "LayoutView",
            "grid_template_rows": null,
            "right": null,
            "justify_content": null,
            "_view_module": "@jupyter-widgets/base",
            "overflow": null,
            "_model_module_version": "1.2.0",
            "_view_count": null,
            "flex_flow": null,
            "width": null,
            "min_width": null,
            "border": null,
            "align_items": null,
            "bottom": null,
            "_model_module": "@jupyter-widgets/base",
            "top": null,
            "grid_column": null,
            "overflow_y": null,
            "overflow_x": null,
            "grid_auto_flow": null,
            "grid_area": null,
            "grid_template_columns": null,
            "flex": null,
            "_model_name": "LayoutModel",
            "justify_items": null,
            "grid_row": null,
            "max_height": null,
            "align_content": null,
            "visibility": null,
            "align_self": null,
            "height": null,
            "min_height": null,
            "padding": null,
            "grid_auto_rows": null,
            "grid_gap": null,
            "max_width": null,
            "order": null,
            "_view_module_version": "1.2.0",
            "grid_template_areas": null,
            "object_position": null,
            "object_fit": null,
            "grid_auto_columns": null,
            "margin": null,
            "display": null,
            "left": null
          }
        },
        "2dbabf9cf93f4db4941d3f66894dbdb4": {
          "model_module": "@jupyter-widgets/controls",
          "model_name": "ProgressStyleModel",
          "model_module_version": "1.5.0",
          "state": {
            "_view_name": "StyleView",
            "_model_name": "ProgressStyleModel",
            "description_width": "",
            "_view_module": "@jupyter-widgets/base",
            "_model_module_version": "1.5.0",
            "_view_count": null,
            "_view_module_version": "1.2.0",
            "bar_color": null,
            "_model_module": "@jupyter-widgets/controls"
          }
        },
        "ed9038dba5344a348b3a6f4d7d734e38": {
          "model_module": "@jupyter-widgets/base",
          "model_name": "LayoutModel",
          "model_module_version": "1.2.0",
          "state": {
            "_view_name": "LayoutView",
            "grid_template_rows": null,
            "right": null,
            "justify_content": null,
            "_view_module": "@jupyter-widgets/base",
            "overflow": null,
            "_model_module_version": "1.2.0",
            "_view_count": null,
            "flex_flow": null,
            "width": null,
            "min_width": null,
            "border": null,
            "align_items": null,
            "bottom": null,
            "_model_module": "@jupyter-widgets/base",
            "top": null,
            "grid_column": null,
            "overflow_y": null,
            "overflow_x": null,
            "grid_auto_flow": null,
            "grid_area": null,
            "grid_template_columns": null,
            "flex": null,
            "_model_name": "LayoutModel",
            "justify_items": null,
            "grid_row": null,
            "max_height": null,
            "align_content": null,
            "visibility": null,
            "align_self": null,
            "height": null,
            "min_height": null,
            "padding": null,
            "grid_auto_rows": null,
            "grid_gap": null,
            "max_width": null,
            "order": null,
            "_view_module_version": "1.2.0",
            "grid_template_areas": null,
            "object_position": null,
            "object_fit": null,
            "grid_auto_columns": null,
            "margin": null,
            "display": null,
            "left": null
          }
        },
        "b1aef3b698b840f9af9c9f658eed0d4e": {
          "model_module": "@jupyter-widgets/controls",
          "model_name": "DescriptionStyleModel",
          "model_module_version": "1.5.0",
          "state": {
            "_view_name": "StyleView",
            "_model_name": "DescriptionStyleModel",
            "description_width": "",
            "_view_module": "@jupyter-widgets/base",
            "_model_module_version": "1.5.0",
            "_view_count": null,
            "_view_module_version": "1.2.0",
            "_model_module": "@jupyter-widgets/controls"
          }
        },
        "ca3b106a40fa4afc80f46ae1ac6fbd78": {
          "model_module": "@jupyter-widgets/base",
          "model_name": "LayoutModel",
          "model_module_version": "1.2.0",
          "state": {
            "_view_name": "LayoutView",
            "grid_template_rows": null,
            "right": null,
            "justify_content": null,
            "_view_module": "@jupyter-widgets/base",
            "overflow": null,
            "_model_module_version": "1.2.0",
            "_view_count": null,
            "flex_flow": null,
            "width": null,
            "min_width": null,
            "border": null,
            "align_items": null,
            "bottom": null,
            "_model_module": "@jupyter-widgets/base",
            "top": null,
            "grid_column": null,
            "overflow_y": null,
            "overflow_x": null,
            "grid_auto_flow": null,
            "grid_area": null,
            "grid_template_columns": null,
            "flex": null,
            "_model_name": "LayoutModel",
            "justify_items": null,
            "grid_row": null,
            "max_height": null,
            "align_content": null,
            "visibility": null,
            "align_self": null,
            "height": null,
            "min_height": null,
            "padding": null,
            "grid_auto_rows": null,
            "grid_gap": null,
            "max_width": null,
            "order": null,
            "_view_module_version": "1.2.0",
            "grid_template_areas": null,
            "object_position": null,
            "object_fit": null,
            "grid_auto_columns": null,
            "margin": null,
            "display": null,
            "left": null
          }
        }
      }
    }
  },
  "cells": [
    {
      "cell_type": "markdown",
      "metadata": {
        "id": "view-in-github",
        "colab_type": "text"
      },
      "source": [
        "<a href=\"https://colab.research.google.com/github/tjohanne42/time_series_project_simplon/blob/main/dev_files/time_series_collab_notebook_arthur.ipynb\" target=\"_parent\"><img src=\"https://colab.research.google.com/assets/colab-badge.svg\" alt=\"Open In Colab\"/></a>"
      ]
    },
    {
      "cell_type": "code",
      "metadata": {
        "id": "vf1ENxY5DpJQ"
      },
      "source": [
        "# !pip3 install --upgrade statsmodels"
      ],
      "execution_count": 1,
      "outputs": []
    },
    {
      "cell_type": "code",
      "metadata": {
        "colab": {
          "base_uri": "https://localhost:8080/"
        },
        "id": "lH4vIgm78_gU",
        "outputId": "cdadea7c-7a89-4cc4-bb85-6cd2670ea1a2"
      },
      "source": [
        "!git clone https://github.com/tjohanne42/time_series_project_simplon.git\n",
        "%cd time_series_project_simplon/"
      ],
      "execution_count": 1,
      "outputs": [
        {
          "output_type": "stream",
          "name": "stdout",
          "text": [
            "Cloning into 'time_series_project_simplon'...\n",
            "remote: Enumerating objects: 113, done.\u001b[K\n",
            "remote: Counting objects: 100% (113/113), done.\u001b[K\n",
            "remote: Compressing objects: 100% (69/69), done.\u001b[K\n",
            "remote: Total 113 (delta 43), reused 68 (delta 20), pack-reused 0\u001b[K\n",
            "Receiving objects: 100% (113/113), 10.76 MiB | 18.76 MiB/s, done.\n",
            "Resolving deltas: 100% (43/43), done.\n",
            "/content/time_series_project_simplon\n"
          ]
        }
      ]
    },
    {
      "cell_type": "code",
      "metadata": {
        "colab": {
          "base_uri": "https://localhost:8080/"
        },
        "id": "-e9_072d6rpn",
        "outputId": "da582948-9d4e-418c-aedb-44beb11e124c"
      },
      "source": [
        "import pandas as pd\n",
        "import matplotlib.pyplot as plt\n",
        "%matplotlib inline\n",
        "from tqdm.notebook import tqdm\n",
        "import numpy as np\n",
        "from scipy.interpolate import make_interp_spline, BSpline\n",
        "from datetime import datetime\n",
        "from pathlib import Path\n",
        "import sys\n",
        "tqdm.pandas()\n",
        "\n",
        "from statsmodels.tsa.seasonal import seasonal_decompose\n",
        "from sklearn.preprocessing import MinMaxScaler\n",
        "from tensorflow.keras.preprocessing.sequence import TimeseriesGenerator\n",
        "import keras\n",
        "from keras.models import Sequential\n",
        "from keras.layers import Input, Dense, Dropout, LSTM, Conv1D, GlobalMaxPooling1D, SimpleRNN\n",
        "from tqdm.keras import TqdmCallback\n",
        "from keras.callbacks import EarlyStopping, ModelCheckpoint, ReduceLROnPlateau\n",
        "from keras.utils.vis_utils import plot_model\n",
        "from tensorflow.keras.optimizers import RMSprop, Adam           # Adam better\n",
        "\n",
        "from utils.functions import generate_df_by_time_section\n",
        "\n",
        "pd.set_option('display.max_columns', None)\n",
        "pd.set_option('display.max_colwidth', None)\n",
        "pd.set_option('display.max_rows', 20)"
      ],
      "execution_count": 2,
      "outputs": [
        {
          "output_type": "stream",
          "name": "stderr",
          "text": [
            "/usr/local/lib/python3.7/dist-packages/statsmodels/tools/_testing.py:19: FutureWarning: pandas.util.testing is deprecated. Use the functions in the public API at pandas.testing instead.\n",
            "  import pandas.util.testing as tm\n"
          ]
        }
      ]
    },
    {
      "cell_type": "code",
      "metadata": {
        "colab": {
          "base_uri": "https://localhost:8080/"
        },
        "id": "IQZ1QSiLPKac",
        "outputId": "e6d5bd9c-844f-4eca-b524-df6441e861af"
      },
      "source": [
        "import tensorflow as tf\n",
        "tf.config.list_physical_devices()"
      ],
      "execution_count": 3,
      "outputs": [
        {
          "output_type": "execute_result",
          "data": {
            "text/plain": [
              "[PhysicalDevice(name='/physical_device:CPU:0', device_type='CPU')]"
            ]
          },
          "metadata": {},
          "execution_count": 3
        }
      ]
    },
    {
      "cell_type": "markdown",
      "metadata": {
        "id": "YAF3VaDm6Ivu"
      },
      "source": [
        "# import dataset\n",
        "\n",
        "weekly nuclear production of energy"
      ]
    },
    {
      "cell_type": "code",
      "metadata": {
        "colab": {
          "base_uri": "https://localhost:8080/"
        },
        "id": "QqGws7qG5JtR",
        "outputId": "f5497c29-6d0f-45aa-afd2-9b9737477dd5"
      },
      "source": [
        "!dir"
      ],
      "execution_count": 4,
      "outputs": [
        {
          "output_type": "stream",
          "name": "stdout",
          "text": [
            "data  preprocess_data.ipynb  README.md\tsubject_fr.PNG\tutils\n"
          ]
        }
      ]
    },
    {
      "cell_type": "code",
      "metadata": {
        "colab": {
          "base_uri": "https://localhost:8080/",
          "height": 627,
          "referenced_widgets": [
            "f3b9d15582fd430585f3af71b4ba2b9e",
            "01bb69487170467f833763210ef193c0",
            "974f96d1c16f46c4bdea08eb1dcc7ec2",
            "ea72984defc64fb9aa5b021821df87f2",
            "1a7c0b3e86e5427199c20ca86e032ce5",
            "15ab49b685504d87b51cecb1702424cc",
            "d6f120beb5d247e28ed64dc265ee556f",
            "5a57a69bdda744c0b4de680fe3f2c6e4",
            "aa886ad557d849e192c631c62a1ce928",
            "5597a19599574d58b5f8b7a93806bd73",
            "510e872902384fa08f3136600f8d819c",
            "d902b3ede8e2470a8831488178912c00",
            "2ff5808f97e04e7e84b4ca839aa0361e",
            "e19cbb1e910a481db4d6717b2ba975b0",
            "35b00083262941dd99398eb970063af1",
            "8b0b73e37cfb4c5cbfb446098e571c22",
            "298dda4b88624d6484ade4d7429b4bb0",
            "ef0b692317a64aea9d11aeb427113d6a",
            "2dbabf9cf93f4db4941d3f66894dbdb4",
            "ed9038dba5344a348b3a6f4d7d734e38",
            "b1aef3b698b840f9af9c9f658eed0d4e",
            "ca3b106a40fa4afc80f46ae1ac6fbd78"
          ]
        },
        "id": "z_9IuPVc9VjP",
        "outputId": "165f6b6e-24db-4fa4-b2c8-519fe61f1465"
      },
      "source": [
        "df_week = generate_df_by_time_section(time_section=\"week\", verbose=True)\n",
        "df_week"
      ],
      "execution_count": 5,
      "outputs": [
        {
          "output_type": "stream",
          "name": "stdout",
          "text": [
            "set the timestamp seconds, minutes and hours to 0 ...\n"
          ]
        },
        {
          "output_type": "display_data",
          "data": {
            "application/vnd.jupyter.widget-view+json": {
              "model_id": "f3b9d15582fd430585f3af71b4ba2b9e",
              "version_minor": 0,
              "version_major": 2
            },
            "text/plain": [
              "  0%|          | 0/796411 [00:00<?, ?it/s]"
            ]
          },
          "metadata": {}
        },
        {
          "output_type": "stream",
          "name": "stdout",
          "text": [
            "get the mean of every hours for every days ...\n",
            "add a column week\n",
            "add a column year ...\n"
          ]
        },
        {
          "output_type": "display_data",
          "data": {
            "application/vnd.jupyter.widget-view+json": {
              "model_id": "d902b3ede8e2470a8831488178912c00",
              "version_minor": 0,
              "version_major": 2
            },
            "text/plain": [
              "  0%|          | 0/2772 [00:00<?, ?it/s]"
            ]
          },
          "metadata": {}
        },
        {
          "output_type": "stream",
          "name": "stdout",
          "text": [
            "get the mean of every day for every week ...\n",
            "retrive the timestamp of the first day of each week ...\n",
            "multiply all values by 12 * 24 * 7 to get the actual values by week ...\n",
            "done\n"
          ]
        },
        {
          "output_type": "execute_result",
          "data": {
            "text/html": [
              "<div>\n",
              "<style scoped>\n",
              "    .dataframe tbody tr th:only-of-type {\n",
              "        vertical-align: middle;\n",
              "    }\n",
              "\n",
              "    .dataframe tbody tr th {\n",
              "        vertical-align: top;\n",
              "    }\n",
              "\n",
              "    .dataframe thead th {\n",
              "        text-align: right;\n",
              "    }\n",
              "</style>\n",
              "<table border=\"1\" class=\"dataframe\">\n",
              "  <thead>\n",
              "    <tr style=\"text-align: right;\">\n",
              "      <th></th>\n",
              "      <th>timestamp</th>\n",
              "      <th>year</th>\n",
              "      <th>week</th>\n",
              "      <th>coal</th>\n",
              "      <th>nuclear</th>\n",
              "      <th>wind</th>\n",
              "      <th>hydro</th>\n",
              "      <th>solar</th>\n",
              "    </tr>\n",
              "  </thead>\n",
              "  <tbody>\n",
              "    <tr>\n",
              "      <th>0</th>\n",
              "      <td>2012-01-01</td>\n",
              "      <td>4054176</td>\n",
              "      <td>104832</td>\n",
              "      <td>1.713828e+07</td>\n",
              "      <td>1.420676e+07</td>\n",
              "      <td>5.322716e+06</td>\n",
              "      <td>1.585388e+06</td>\n",
              "      <td>0.000000e+00</td>\n",
              "    </tr>\n",
              "    <tr>\n",
              "      <th>1</th>\n",
              "      <td>2012-01-02</td>\n",
              "      <td>4056192</td>\n",
              "      <td>2016</td>\n",
              "      <td>2.914531e+07</td>\n",
              "      <td>1.501550e+07</td>\n",
              "      <td>4.839885e+06</td>\n",
              "      <td>1.635379e+06</td>\n",
              "      <td>0.000000e+00</td>\n",
              "    </tr>\n",
              "    <tr>\n",
              "      <th>2</th>\n",
              "      <td>2012-01-09</td>\n",
              "      <td>4056192</td>\n",
              "      <td>4032</td>\n",
              "      <td>3.676549e+07</td>\n",
              "      <td>1.460764e+07</td>\n",
              "      <td>2.751943e+06</td>\n",
              "      <td>1.566100e+06</td>\n",
              "      <td>0.000000e+00</td>\n",
              "    </tr>\n",
              "    <tr>\n",
              "      <th>3</th>\n",
              "      <td>2012-01-16</td>\n",
              "      <td>4056192</td>\n",
              "      <td>6048</td>\n",
              "      <td>3.644392e+07</td>\n",
              "      <td>1.524003e+07</td>\n",
              "      <td>4.198388e+06</td>\n",
              "      <td>1.267458e+06</td>\n",
              "      <td>0.000000e+00</td>\n",
              "    </tr>\n",
              "    <tr>\n",
              "      <th>4</th>\n",
              "      <td>2012-01-23</td>\n",
              "      <td>4056192</td>\n",
              "      <td>8064</td>\n",
              "      <td>3.853616e+07</td>\n",
              "      <td>1.670473e+07</td>\n",
              "      <td>2.227393e+06</td>\n",
              "      <td>1.345945e+06</td>\n",
              "      <td>0.000000e+00</td>\n",
              "    </tr>\n",
              "    <tr>\n",
              "      <th>...</th>\n",
              "      <td>...</td>\n",
              "      <td>...</td>\n",
              "      <td>...</td>\n",
              "      <td>...</td>\n",
              "      <td>...</td>\n",
              "      <td>...</td>\n",
              "      <td>...</td>\n",
              "      <td>...</td>\n",
              "    </tr>\n",
              "    <tr>\n",
              "      <th>393</th>\n",
              "      <td>2019-07-01</td>\n",
              "      <td>4070304</td>\n",
              "      <td>54432</td>\n",
              "      <td>0.000000e+00</td>\n",
              "      <td>9.631355e+06</td>\n",
              "      <td>7.683682e+06</td>\n",
              "      <td>3.867220e+05</td>\n",
              "      <td>4.858098e+06</td>\n",
              "    </tr>\n",
              "    <tr>\n",
              "      <th>394</th>\n",
              "      <td>2019-07-08</td>\n",
              "      <td>4070304</td>\n",
              "      <td>56448</td>\n",
              "      <td>1.557690e+05</td>\n",
              "      <td>9.956678e+06</td>\n",
              "      <td>3.944752e+06</td>\n",
              "      <td>5.637490e+05</td>\n",
              "      <td>3.799916e+06</td>\n",
              "    </tr>\n",
              "    <tr>\n",
              "      <th>395</th>\n",
              "      <td>2019-07-15</td>\n",
              "      <td>4070304</td>\n",
              "      <td>58464</td>\n",
              "      <td>9.756300e+04</td>\n",
              "      <td>1.119766e+07</td>\n",
              "      <td>6.731582e+06</td>\n",
              "      <td>5.027580e+05</td>\n",
              "      <td>3.807794e+06</td>\n",
              "    </tr>\n",
              "    <tr>\n",
              "      <th>396</th>\n",
              "      <td>2019-07-22</td>\n",
              "      <td>4070304</td>\n",
              "      <td>60480</td>\n",
              "      <td>4.317600e+04</td>\n",
              "      <td>1.071334e+07</td>\n",
              "      <td>9.077357e+06</td>\n",
              "      <td>7.786470e+05</td>\n",
              "      <td>3.918022e+06</td>\n",
              "    </tr>\n",
              "    <tr>\n",
              "      <th>397</th>\n",
              "      <td>2019-07-29</td>\n",
              "      <td>4070304</td>\n",
              "      <td>62496</td>\n",
              "      <td>0.000000e+00</td>\n",
              "      <td>1.104120e+07</td>\n",
              "      <td>5.431175e+06</td>\n",
              "      <td>6.689334e+05</td>\n",
              "      <td>3.654029e+06</td>\n",
              "    </tr>\n",
              "  </tbody>\n",
              "</table>\n",
              "<p>398 rows × 8 columns</p>\n",
              "</div>"
            ],
            "text/plain": [
              "     timestamp     year    week          coal       nuclear          wind  \\\n",
              "0   2012-01-01  4054176  104832  1.713828e+07  1.420676e+07  5.322716e+06   \n",
              "1   2012-01-02  4056192    2016  2.914531e+07  1.501550e+07  4.839885e+06   \n",
              "2   2012-01-09  4056192    4032  3.676549e+07  1.460764e+07  2.751943e+06   \n",
              "3   2012-01-16  4056192    6048  3.644392e+07  1.524003e+07  4.198388e+06   \n",
              "4   2012-01-23  4056192    8064  3.853616e+07  1.670473e+07  2.227393e+06   \n",
              "..         ...      ...     ...           ...           ...           ...   \n",
              "393 2019-07-01  4070304   54432  0.000000e+00  9.631355e+06  7.683682e+06   \n",
              "394 2019-07-08  4070304   56448  1.557690e+05  9.956678e+06  3.944752e+06   \n",
              "395 2019-07-15  4070304   58464  9.756300e+04  1.119766e+07  6.731582e+06   \n",
              "396 2019-07-22  4070304   60480  4.317600e+04  1.071334e+07  9.077357e+06   \n",
              "397 2019-07-29  4070304   62496  0.000000e+00  1.104120e+07  5.431175e+06   \n",
              "\n",
              "            hydro         solar  \n",
              "0    1.585388e+06  0.000000e+00  \n",
              "1    1.635379e+06  0.000000e+00  \n",
              "2    1.566100e+06  0.000000e+00  \n",
              "3    1.267458e+06  0.000000e+00  \n",
              "4    1.345945e+06  0.000000e+00  \n",
              "..            ...           ...  \n",
              "393  3.867220e+05  4.858098e+06  \n",
              "394  5.637490e+05  3.799916e+06  \n",
              "395  5.027580e+05  3.807794e+06  \n",
              "396  7.786470e+05  3.918022e+06  \n",
              "397  6.689334e+05  3.654029e+06  \n",
              "\n",
              "[398 rows x 8 columns]"
            ]
          },
          "metadata": {},
          "execution_count": 5
        }
      ]
    },
    {
      "cell_type": "code",
      "metadata": {
        "colab": {
          "base_uri": "https://localhost:8080/",
          "height": 424
        },
        "id": "G5lloKhs_yX1",
        "outputId": "50abe9d6-49c9-4203-8031-15a50c888437"
      },
      "source": [
        "df_nuclear_week = df_week[[\"timestamp\", \"nuclear\"]]\n",
        "df_nuclear_week"
      ],
      "execution_count": 6,
      "outputs": [
        {
          "output_type": "execute_result",
          "data": {
            "text/html": [
              "<div>\n",
              "<style scoped>\n",
              "    .dataframe tbody tr th:only-of-type {\n",
              "        vertical-align: middle;\n",
              "    }\n",
              "\n",
              "    .dataframe tbody tr th {\n",
              "        vertical-align: top;\n",
              "    }\n",
              "\n",
              "    .dataframe thead th {\n",
              "        text-align: right;\n",
              "    }\n",
              "</style>\n",
              "<table border=\"1\" class=\"dataframe\">\n",
              "  <thead>\n",
              "    <tr style=\"text-align: right;\">\n",
              "      <th></th>\n",
              "      <th>timestamp</th>\n",
              "      <th>nuclear</th>\n",
              "    </tr>\n",
              "  </thead>\n",
              "  <tbody>\n",
              "    <tr>\n",
              "      <th>0</th>\n",
              "      <td>2012-01-01</td>\n",
              "      <td>1.420676e+07</td>\n",
              "    </tr>\n",
              "    <tr>\n",
              "      <th>1</th>\n",
              "      <td>2012-01-02</td>\n",
              "      <td>1.501550e+07</td>\n",
              "    </tr>\n",
              "    <tr>\n",
              "      <th>2</th>\n",
              "      <td>2012-01-09</td>\n",
              "      <td>1.460764e+07</td>\n",
              "    </tr>\n",
              "    <tr>\n",
              "      <th>3</th>\n",
              "      <td>2012-01-16</td>\n",
              "      <td>1.524003e+07</td>\n",
              "    </tr>\n",
              "    <tr>\n",
              "      <th>4</th>\n",
              "      <td>2012-01-23</td>\n",
              "      <td>1.670473e+07</td>\n",
              "    </tr>\n",
              "    <tr>\n",
              "      <th>...</th>\n",
              "      <td>...</td>\n",
              "      <td>...</td>\n",
              "    </tr>\n",
              "    <tr>\n",
              "      <th>393</th>\n",
              "      <td>2019-07-01</td>\n",
              "      <td>9.631355e+06</td>\n",
              "    </tr>\n",
              "    <tr>\n",
              "      <th>394</th>\n",
              "      <td>2019-07-08</td>\n",
              "      <td>9.956678e+06</td>\n",
              "    </tr>\n",
              "    <tr>\n",
              "      <th>395</th>\n",
              "      <td>2019-07-15</td>\n",
              "      <td>1.119766e+07</td>\n",
              "    </tr>\n",
              "    <tr>\n",
              "      <th>396</th>\n",
              "      <td>2019-07-22</td>\n",
              "      <td>1.071334e+07</td>\n",
              "    </tr>\n",
              "    <tr>\n",
              "      <th>397</th>\n",
              "      <td>2019-07-29</td>\n",
              "      <td>1.104120e+07</td>\n",
              "    </tr>\n",
              "  </tbody>\n",
              "</table>\n",
              "<p>398 rows × 2 columns</p>\n",
              "</div>"
            ],
            "text/plain": [
              "     timestamp       nuclear\n",
              "0   2012-01-01  1.420676e+07\n",
              "1   2012-01-02  1.501550e+07\n",
              "2   2012-01-09  1.460764e+07\n",
              "3   2012-01-16  1.524003e+07\n",
              "4   2012-01-23  1.670473e+07\n",
              "..         ...           ...\n",
              "393 2019-07-01  9.631355e+06\n",
              "394 2019-07-08  9.956678e+06\n",
              "395 2019-07-15  1.119766e+07\n",
              "396 2019-07-22  1.071334e+07\n",
              "397 2019-07-29  1.104120e+07\n",
              "\n",
              "[398 rows x 2 columns]"
            ]
          },
          "metadata": {},
          "execution_count": 6
        }
      ]
    },
    {
      "cell_type": "code",
      "metadata": {
        "colab": {
          "base_uri": "https://localhost:8080/",
          "height": 591
        },
        "id": "cKW3G86HABor",
        "outputId": "e49cf86c-de99-4892-992f-f6fff8461139"
      },
      "source": [
        "# df_nuclear_week.plot(figsize=(20,10))\n",
        "df_nuclear_week.set_index(keys=\"timestamp\").plot(figsize=(20,10))"
      ],
      "execution_count": 7,
      "outputs": [
        {
          "output_type": "execute_result",
          "data": {
            "text/plain": [
              "<matplotlib.axes._subplots.AxesSubplot at 0x7f839de7ca10>"
            ]
          },
          "metadata": {},
          "execution_count": 7
        },
        {
          "output_type": "display_data",
          "data": {
            "image/png": "[encoded data removed]",
            "text/plain": [
              "<Figure size 1440x720 with 1 Axes>"
            ]
          },
          "metadata": {
            "needs_background": "light"
          }
        }
      ]
    },
    {
      "cell_type": "markdown",
      "metadata": {
        "id": "X9PzAMz3OClB"
      },
      "source": [
        "# LSTM\n",
        "\n",
        "- LSTM activation -> Sigmoid, tanh\n",
        "- activation = \"tanh\", recurrent\n",
        "- learning rate = 0.001, adam optimizer\n",
        "- train, val, test set\n",
        "- LSTM, dense, dropout layers\n",
        "- Relu, leaky Relu, P Relu activation functions\n",
        "- N input timestamps, M output timestamps"
      ]
    },
    {
      "cell_type": "markdown",
      "metadata": {
        "id": "VPxMxFar-kzZ"
      },
      "source": [
        "## train, validation, test sets\n",
        "\n",
        "train (split_1) validation (split_2) test"
      ]
    },
    {
      "cell_type": "code",
      "metadata": {
        "id": "lRgX_BlMOAfg"
      },
      "source": [
        "index_split_1 = round(len(df_nuclear_week) * 0.7)\n",
        "index_split_2 = round(len(df_nuclear_week) * 0.8)\n",
        "\n",
        "train = df_nuclear_week.iloc[:index_split_1, 1].values.reshape(-1, 1)\n",
        "val = df_nuclear_week.iloc[index_split_1:index_split_2, 1].values.reshape(-1, 1)\n",
        "test = df_nuclear_week.iloc[index_split_2:, 1].values.reshape(-1, 1)"
      ],
      "execution_count": null,
      "outputs": []
    },
    {
      "cell_type": "code",
      "metadata": {
        "id": "rZKX6SGTOAiB"
      },
      "source": [
        "print(train.shape)\n",
        "print(val.shape)\n",
        "print(test.shape)"
      ],
      "execution_count": null,
      "outputs": []
    },
    {
      "cell_type": "markdown",
      "metadata": {
        "id": "-YjAB9BYBuLv"
      },
      "source": [
        "## MinMax scaling"
      ]
    },
    {
      "cell_type": "code",
      "metadata": {
        "id": "hlvot59oOAj-"
      },
      "source": [
        "scaler = MinMaxScaler()\n",
        "\n",
        "scaler.fit(train)\n",
        "scaled_train = scaler.transform(train)\n",
        "scaled_val = scaler.transform(val)\n",
        "scaled_test = scaler.transform(test)\n",
        "\n",
        "print(scaled_train.min(), scaled_train.max())"
      ],
      "execution_count": null,
      "outputs": []
    },
    {
      "cell_type": "markdown",
      "metadata": {
        "id": "7MHiZnorCnDZ"
      },
      "source": [
        "## Time series Generator"
      ]
    },
    {
      "cell_type": "code",
      "metadata": {
        "id": "n5JWZX30Cmd1"
      },
      "source": [
        "input_length = 24\n",
        "features_length = 1\n",
        "batch_size = 5\n",
        "generator = TimeseriesGenerator(scaled_train, scaled_train, length=input_length, batch_size=batch_size)"
      ],
      "execution_count": null,
      "outputs": []
    },
    {
      "cell_type": "code",
      "metadata": {
        "id": "OKLPWB6aEySs"
      },
      "source": [
        "x, y = generator[0]\n",
        "# print(x)\n",
        "# print(y)"
      ],
      "execution_count": null,
      "outputs": []
    },
    {
      "cell_type": "code",
      "metadata": {
        "id": "FEKfWyjtFXQE"
      },
      "source": [
        "len(generator)"
      ],
      "execution_count": null,
      "outputs": []
    },
    {
      "cell_type": "code",
      "metadata": {
        "id": "StdALxxYFKMZ"
      },
      "source": [
        "print(x.shape)\n",
        "print(y.shape)"
      ],
      "execution_count": null,
      "outputs": []
    },
    {
      "cell_type": "markdown",
      "metadata": {
        "id": "qobZWmZwFz70"
      },
      "source": [
        "x (input) shape = (batch size, input length, feature length)<br>\n",
        "y (expected output) shape = (batch size, feature length)"
      ]
    },
    {
      "cell_type": "markdown",
      "metadata": {
        "id": "D8Zk_m0MInAx"
      },
      "source": [
        "## create a model"
      ]
    },
    {
      "cell_type": "code",
      "metadata": {
        "id": "k4WkdmMPF0C8"
      },
      "source": [
        "inputs = Input(shape=(input_length, features_length))\n",
        "\n",
        "main = Dense(n_lag, activation=\"relu\")(inputs)\n",
        "main = LSTM(256, activation=\"relu\", return_sequences=True)(main)\n",
        "main = LSTM(128, activation=\"relu\", return_sequences=True)(main)\n",
        "main = LSTM(64, activation=\"relu\")(main)\n",
        "# main = Dense(64, activation=\"relu\")(main)\n",
        "main = Dense(n_lag, activation=None, name='output')(main)\n",
        "\n",
        "model = Model(inputs, main)\n",
        "\n",
        "model.summary()\n",
        "plot_model(model, to_file=\"blbl.png\", show_shapes=True)\n",
        "\n",
        "model.compile(\n",
        "  # optimizer = Adam(learning_rate=0.001),\n",
        "  optimizer = RMSprop(learning_rate=0.001),\n",
        "  loss = \"mse\",\n",
        ")"
      ],
      "execution_count": null,
      "outputs": []
    }
  ]
}